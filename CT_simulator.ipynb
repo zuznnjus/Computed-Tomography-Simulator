{
 "cells": [
  {
   "cell_type": "code",
   "execution_count": 12,
   "id": "existing-receptor",
   "metadata": {},
   "outputs": [
    {
     "name": "stdout",
     "output_type": "stream",
     "text": [
      "[[0, 0], [-1, 1], [-2, 2], [-2, 3], [-3, 4]]\n"
     ]
    },
    {
     "data": {
      "image/png": "[encoded data removed]",
      "text/plain": [
       "<Figure size 432x288 with 1 Axes>"
      ]
     },
     "metadata": {
      "needs_background": "light"
     },
     "output_type": "display_data"
    }
   ],
   "source": [
    "from skimage import io\n",
    "import numpy as np\n",
    "\n",
    "def applyRadonTransform():\n",
    "    return\n",
    "\n",
    "def applyBresenhamAlgorithm(x0, y0, x1, y1): # to draw line primitives (emitter - detector)\n",
    "    delta_x = x1 - x0\n",
    "    delta_y = y1 - y0    \n",
    "    \n",
    "    x_direction = 1\n",
    "    y_direction = 1\n",
    "    \n",
    "    line = []\n",
    "    \n",
    "    if delta_x < 0:\n",
    "        delta_x, x_direction = abs(delta_x), -1     \n",
    "                                                       \n",
    "    if delta_y < 0:\n",
    "        delta_y, y_direction = abs(delta_y), -1    \n",
    "    \n",
    "    error = delta_y - delta_x \n",
    "    y = y0 \n",
    "    x = x0 \n",
    "        \n",
    "    if delta_x > delta_y:\n",
    "        for _ in range(delta_x):\n",
    "            line.append([x, y])\n",
    "            if error >= 0:\n",
    "                y += y_direction\n",
    "                error -= delta_x\n",
    "            x += x_direction\n",
    "            error += delta_y\n",
    "    else:\n",
    "        for _ in range(delta_y):\n",
    "            line.append([x, y])\n",
    "            if error >= 0:\n",
    "                x += x_direction\n",
    "                error -= delta_y\n",
    "            y += y_direction\n",
    "            error += delta_x\n",
    "    \n",
    "    return line\n",
    "\n",
    "def getEmitterPosition(image, alfa):  \n",
    "    r = max(image.shape) * np.sqrt(2) / 2 \n",
    "    x = int(r * np.cos(alfa)) \n",
    "    y = int(r * np.sin(alfa))\n",
    "    \n",
    "    return x, y\n",
    "\n",
    "def getDetectorsPositions(image, alfa, phi, detectors):  \n",
    "    positions = []\n",
    "    r = max(image.shape) * np.sqrt(2) / 2 \n",
    "    \n",
    "    for i in range(detectors):\n",
    "        x = int(r * np.cos(alfa + np.pi - phi / 2 + i * (phi / (detectors - 1)))) \n",
    "        y = int(r * np.sin(alfa + np.pi - phi / 2 + i * (phi / (detectors - 1))))\n",
    "        positions.append([x, y])\n",
    "    \n",
    "    return positions\n",
    "\n",
    "def normalize():\n",
    "    return\n",
    "\n",
    "def applyConvolution(): # to na 5\n",
    "    return\n",
    "\n",
    "def displaySinogram():\n",
    "    return\n",
    "    \n",
    "def displayOutput():\n",
    "    return\n",
    "\n",
    "def main():\n",
    "    # input parameters\n",
    "    alfa = 1\n",
    "    detectors = 1  \n",
    "    span = 1\n",
    "    \n",
    "    images = ['Kolo.jpg', 'Kropka.jpg', 'Kwadraty2.jpg', 'Paski2.jpg', 'Shepp_logan.jpg']\n",
    "    image = io.imread('tomograf-zdjecia/' + images[0], as_gray = True)\n",
    "    io.imshow(image)\n",
    "    \n",
    "    line = applyBresenhamAlgorithm(0, 0, -3, 5)\n",
    "    print(line)\n",
    "    \n",
    "if __name__ == '__main__':\n",
    "    main()"
   ]
  }
 ],
 "metadata": {
  "kernelspec": {
   "display_name": "Python 3",
   "language": "python",
   "name": "python3"
  },
  "language_info": {
   "codemirror_mode": {
    "name": "ipython",
    "version": 3
   },
   "file_extension": ".py",
   "mimetype": "text/x-python",
   "name": "python",
   "nbconvert_exporter": "python",
   "pygments_lexer": "ipython3",
   "version": "3.9.1"
  }
 },
 "nbformat": 4,
 "nbformat_minor": 5
}
